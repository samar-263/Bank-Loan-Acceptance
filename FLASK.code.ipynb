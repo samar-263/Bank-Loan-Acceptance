{
 "cells": [
  {
   "cell_type": "code",
   "execution_count": null,
   "id": "c22e593f",
   "metadata": {},
   "outputs": [],
   "source": [
    "\n",
    "from flask import Flask, render_template, request\n",
    "import numpy as np\n",
    "import pickle\n",
    "import pandas as pd\n",
    "\n",
    "app = Flask(__name__)\n",
    "\n",
    "\n",
    "model = pickle.load(open('DEFAULTER_MODEL.pkl', 'rb'))\n",
    "\n",
    "@app.route('/')\n",
    "def home():\n",
    "    return render_template('index.html')\n",
    "\n",
    "@app.route('/predict', methods=['POST'])\n",
    "def predict():\n",
    "    \n",
    "\n",
    "    amt_income_total = float(request.form['amt_income_total'])\n",
    "    days_birth = int(request.form['days_birth'])\n",
    "    days_employed = int(request.form['days_employed'])\n",
    "\n",
    "    \n",
    "    data = pd.DataFrame({\n",
    "\n",
    "        'AMT_INCOME_TOTAL': [amt_income_total],\n",
    "        'DAYS_BIRTH': [days_birth],\n",
    "        'DAYS_EMPLOYED': [days_employed]\n",
    "    })\n",
    "\n",
    "\n",
    "    predictions = model.predict(data)\n",
    "\n",
    "\n",
    "\n",
    "\n",
    "    if predictions == 0:\n",
    "        result = f'!SORRY! YOUR LOAN DOESNOT APPROAVED'\n",
    "        return render_template('result.html', predictions=result)\n",
    "    else:\n",
    "        result = f'!CONGRATULATION! YOUR LOAN HAS BEEN APPROVED'\n",
    "        return render_template('result.html', predictions=result)\n",
    "\n",
    "\n",
    "   \n",
    "if __name__ == '__main__':\n",
    "    app.run(debug=True)\n"
   ]
  }
 ],
 "metadata": {
  "kernelspec": {
   "display_name": "Python 3 (ipykernel)",
   "language": "python",
   "name": "python3"
  },
  "language_info": {
   "codemirror_mode": {
    "name": "ipython",
    "version": 3
   },
   "file_extension": ".py",
   "mimetype": "text/x-python",
   "name": "python",
   "nbconvert_exporter": "python",
   "pygments_lexer": "ipython3",
   "version": "3.10.9"
  }
 },
 "nbformat": 4,
 "nbformat_minor": 5
}
